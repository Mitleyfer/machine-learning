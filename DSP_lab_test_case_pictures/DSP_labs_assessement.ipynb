{
 "cells": [
  {
   "cell_type": "markdown",
   "metadata": {},
   "source": [
    "### Постановка задачи"
   ]
  },
  {
   "cell_type": "markdown",
   "metadata": {},
   "source": [
    "Вам предстоит определить к какому классу принадлежат изображения лиц: оригинальные кадры (real) или кадры, полученные при съемке экранов различными мобильными устройствами (spoof).\n",
    "\n",
    "Базы Train и Test - это кадры из видеозаписей, снятых в различных условиях. Оригинальные видеозаписи получены с помощью веб-камер, камер мобильных телефонов или скачаны c Youtube. Атаки повторного воспроизведения получены путем съемки экранов различных ноутбуков и мониторов камерами мобильных телефонов в момент проигрывания оригинальных видеозаписей различных людей. Атаки были получены как в лабораторных условиях, так и с помощью исполнителей, зарегистрированных в краудсорсинговых интернет-сервисах Яндекс.Толока и Amazon Mechanical Turk.\n",
    "\n",
    "Ссылка на Базу Train: https://drive.google.com/a/idrnd.net/file/d/1xmALNsYW-zm-Id9T6Ku2H4_cBWoqn23s\n",
    "\n",
    "Ссылка на Базу Test: https://drive.google.com/a/idrnd.net/file/d/1teaLCo-F-5RCQM8Puxqbk13bI0evqIzg\n",
    "\n",
    "Необходимо прислать на почту hr@idrnd.net ответы на файлы из Базы Test в следующем формате, где первый столбец - имя файла из тестовой выборки, а второй - вероятность класса real\n",
    "\n",
    "0,2\n",
    "\n",
    "7VOPPXVC.png,0.1409492673717314\n",
    "\n",
    "U4WX0TBW.png,0.9453358419636287\n",
    "\n",
    "...\n",
    "\n",
    "PE6KMGCT.png,0.9453358419636287"
   ]
  },
  {
   "cell_type": "markdown",
   "metadata": {},
   "source": [
    "### Краткое описание"
   ]
  },
  {
   "cell_type": "markdown",
   "metadata": {},
   "source": [
    "Для решения данной задачи я решил использовать transfer learning, а конкретно - архитектуру Resnet с инициализированными весами. Для сравнения использовал две предобученные свёрточные нейронные сети (Resnet18 и Resnet50, c 18-ю и 50-ю скрытыми слоями соответственно). В первой итерации заморозил веса предобученной сети, обучал только выходной слой и получил ожидаемо плохой результат. Во второй итерации полностью переобучил модель Resnet18, используя предобученную сеть как отправную точку (Этот подход я подсмотрел у умных людей из Стэнфорда, занимавшихся классификацией меланом. Инициализация сети с предобученными весами вместо рандомных дала лучший результат в плане стоимости вычислений). Результат улучшился. В последней итерации делал всё тоже самое, что и во второй, только с сетью Resnet50. Более глубокая сеть показала ещё лучший результат. Для контроля обучения сети использовал валидацию. Задачу решал с помощью языка Python и фреймворка глубокого обучения Pytorch."
   ]
  },
  {
   "cell_type": "markdown",
   "metadata": {},
   "source": [
    "### Separating data into train and validation datasets"
   ]
  },
  {
   "cell_type": "code",
   "execution_count": 1,
   "metadata": {},
   "outputs": [],
   "source": [
    "#Каждое десятое изображение будем использовать для валидации\n",
    "from pathlib import Path\n",
    "for i, file in enumerate(Path('train/real').glob('*.png')):\n",
    "    if i % 10 == 0:\n",
    "        file.replace(Path('valid/real') / file.name)     "
   ]
  },
  {
   "cell_type": "code",
   "execution_count": 3,
   "metadata": {},
   "outputs": [],
   "source": [
    "for i, file in enumerate(Path('train/spoof').glob('*.png')):\n",
    "    if i % 10 == 0:\n",
    "        file.replace(Path('valid/spoof') / file.name)  "
   ]
  },
  {
   "cell_type": "markdown",
   "metadata": {},
   "source": [
    "### Import nessesary libraries, creating dataloaders"
   ]
  },
  {
   "cell_type": "code",
   "execution_count": 1,
   "metadata": {},
   "outputs": [],
   "source": [
    "#импортируем необходимые библиотеки\n",
    "import numpy as np\n",
    "import torch\n",
    "import torch.nn.functional as F\n",
    "import torchvision.transforms as transforms\n",
    "import torchvision.models as models\n",
    "import torch.nn as nn\n",
    "import torch.optim as optim\n",
    "from torchvision import datasets\n",
    "from glob import glob\n",
    "from collections import OrderedDict"
   ]
  },
  {
   "cell_type": "code",
   "execution_count": 2,
   "metadata": {},
   "outputs": [],
   "source": [
    "#создаём загрузчики и трансформации для изображений\n",
    "#для тренировочных данных используем дополнительные трансформации, рандомно переворачиваем изображения,\n",
    "#чтобы сеть была более устойчива к искажённым данным \n",
    "train_dir = 'train/'\n",
    "valid_dir = 'valid/'\n",
    "random_transforms = [transforms.RandomAffine(45), transforms.RandomHorizontalFlip(), transforms.RandomVerticalFlip()]\n",
    "train_transforms = transforms.Compose([transforms.RandomRotation(90),\n",
    "                                       transforms.RandomResizedCrop(224),\n",
    "                                       transforms.RandomChoice(random_transforms),transforms.ToTensor(),\n",
    "                                       transforms.Normalize([0.485, 0.456, 0.406],\n",
    "                                                            [0.229, 0.224, 0.225])])\n",
    "test_transforms = transforms.Compose([transforms.Resize(255),\n",
    "                                      transforms.CenterCrop(224),\n",
    "                                      transforms.ToTensor(),\n",
    "                                      transforms.Normalize([0.485, 0.456, 0.406],\n",
    "                                                           [0.229, 0.224, 0.225])])\n",
    "\n",
    "def loaders(dir_list, transforms_list, batch_size, num_workers, shuffle = True):\n",
    "    #оборачиваю создание загрузчиков в фунцию для удобства\n",
    "    train_dataset = datasets.ImageFolder(dir_list[0], transform = transforms_list[0])\n",
    "    valid_dataset = datasets.ImageFolder(dir_list[1], transform = transforms_list[1])\n",
    "    trainloader = torch.utils.data.DataLoader(train_dataset, batch_size = batch_size, num_workers = num_workers, shuffle = shuffle)\n",
    "    validloader = torch.utils.data.DataLoader(valid_dataset, batch_size = batch_size, num_workers = num_workers, shuffle = shuffle)\n",
    "    loaders = {'train': trainloader, 'valid': validloader}\n",
    "    return loaders\n",
    "\n",
    "loaders = loaders(['train/', 'valid/'],[train_transforms, train_transforms] , 128, 0, True)"
   ]
  },
  {
   "cell_type": "markdown",
   "metadata": {},
   "source": [
    "### Creating classifier, loading pretrained neural network"
   ]
  },
  {
   "cell_type": "code",
   "execution_count": 3,
   "metadata": {},
   "outputs": [
    {
     "data": {
      "text/plain": [
       "ResNet(\n",
       "  (conv1): Conv2d(3, 64, kernel_size=(7, 7), stride=(2, 2), padding=(3, 3), bias=False)\n",
       "  (bn1): BatchNorm2d(64, eps=1e-05, momentum=0.1, affine=True, track_running_stats=True)\n",
       "  (relu): ReLU(inplace=True)\n",
       "  (maxpool): MaxPool2d(kernel_size=3, stride=2, padding=1, dilation=1, ceil_mode=False)\n",
       "  (layer1): Sequential(\n",
       "    (0): BasicBlock(\n",
       "      (conv1): Conv2d(64, 64, kernel_size=(3, 3), stride=(1, 1), padding=(1, 1), bias=False)\n",
       "      (bn1): BatchNorm2d(64, eps=1e-05, momentum=0.1, affine=True, track_running_stats=True)\n",
       "      (relu): ReLU(inplace=True)\n",
       "      (conv2): Conv2d(64, 64, kernel_size=(3, 3), stride=(1, 1), padding=(1, 1), bias=False)\n",
       "      (bn2): BatchNorm2d(64, eps=1e-05, momentum=0.1, affine=True, track_running_stats=True)\n",
       "    )\n",
       "    (1): BasicBlock(\n",
       "      (conv1): Conv2d(64, 64, kernel_size=(3, 3), stride=(1, 1), padding=(1, 1), bias=False)\n",
       "      (bn1): BatchNorm2d(64, eps=1e-05, momentum=0.1, affine=True, track_running_stats=True)\n",
       "      (relu): ReLU(inplace=True)\n",
       "      (conv2): Conv2d(64, 64, kernel_size=(3, 3), stride=(1, 1), padding=(1, 1), bias=False)\n",
       "      (bn2): BatchNorm2d(64, eps=1e-05, momentum=0.1, affine=True, track_running_stats=True)\n",
       "    )\n",
       "  )\n",
       "  (layer2): Sequential(\n",
       "    (0): BasicBlock(\n",
       "      (conv1): Conv2d(64, 128, kernel_size=(3, 3), stride=(2, 2), padding=(1, 1), bias=False)\n",
       "      (bn1): BatchNorm2d(128, eps=1e-05, momentum=0.1, affine=True, track_running_stats=True)\n",
       "      (relu): ReLU(inplace=True)\n",
       "      (conv2): Conv2d(128, 128, kernel_size=(3, 3), stride=(1, 1), padding=(1, 1), bias=False)\n",
       "      (bn2): BatchNorm2d(128, eps=1e-05, momentum=0.1, affine=True, track_running_stats=True)\n",
       "      (downsample): Sequential(\n",
       "        (0): Conv2d(64, 128, kernel_size=(1, 1), stride=(2, 2), bias=False)\n",
       "        (1): BatchNorm2d(128, eps=1e-05, momentum=0.1, affine=True, track_running_stats=True)\n",
       "      )\n",
       "    )\n",
       "    (1): BasicBlock(\n",
       "      (conv1): Conv2d(128, 128, kernel_size=(3, 3), stride=(1, 1), padding=(1, 1), bias=False)\n",
       "      (bn1): BatchNorm2d(128, eps=1e-05, momentum=0.1, affine=True, track_running_stats=True)\n",
       "      (relu): ReLU(inplace=True)\n",
       "      (conv2): Conv2d(128, 128, kernel_size=(3, 3), stride=(1, 1), padding=(1, 1), bias=False)\n",
       "      (bn2): BatchNorm2d(128, eps=1e-05, momentum=0.1, affine=True, track_running_stats=True)\n",
       "    )\n",
       "  )\n",
       "  (layer3): Sequential(\n",
       "    (0): BasicBlock(\n",
       "      (conv1): Conv2d(128, 256, kernel_size=(3, 3), stride=(2, 2), padding=(1, 1), bias=False)\n",
       "      (bn1): BatchNorm2d(256, eps=1e-05, momentum=0.1, affine=True, track_running_stats=True)\n",
       "      (relu): ReLU(inplace=True)\n",
       "      (conv2): Conv2d(256, 256, kernel_size=(3, 3), stride=(1, 1), padding=(1, 1), bias=False)\n",
       "      (bn2): BatchNorm2d(256, eps=1e-05, momentum=0.1, affine=True, track_running_stats=True)\n",
       "      (downsample): Sequential(\n",
       "        (0): Conv2d(128, 256, kernel_size=(1, 1), stride=(2, 2), bias=False)\n",
       "        (1): BatchNorm2d(256, eps=1e-05, momentum=0.1, affine=True, track_running_stats=True)\n",
       "      )\n",
       "    )\n",
       "    (1): BasicBlock(\n",
       "      (conv1): Conv2d(256, 256, kernel_size=(3, 3), stride=(1, 1), padding=(1, 1), bias=False)\n",
       "      (bn1): BatchNorm2d(256, eps=1e-05, momentum=0.1, affine=True, track_running_stats=True)\n",
       "      (relu): ReLU(inplace=True)\n",
       "      (conv2): Conv2d(256, 256, kernel_size=(3, 3), stride=(1, 1), padding=(1, 1), bias=False)\n",
       "      (bn2): BatchNorm2d(256, eps=1e-05, momentum=0.1, affine=True, track_running_stats=True)\n",
       "    )\n",
       "  )\n",
       "  (layer4): Sequential(\n",
       "    (0): BasicBlock(\n",
       "      (conv1): Conv2d(256, 512, kernel_size=(3, 3), stride=(2, 2), padding=(1, 1), bias=False)\n",
       "      (bn1): BatchNorm2d(512, eps=1e-05, momentum=0.1, affine=True, track_running_stats=True)\n",
       "      (relu): ReLU(inplace=True)\n",
       "      (conv2): Conv2d(512, 512, kernel_size=(3, 3), stride=(1, 1), padding=(1, 1), bias=False)\n",
       "      (bn2): BatchNorm2d(512, eps=1e-05, momentum=0.1, affine=True, track_running_stats=True)\n",
       "      (downsample): Sequential(\n",
       "        (0): Conv2d(256, 512, kernel_size=(1, 1), stride=(2, 2), bias=False)\n",
       "        (1): BatchNorm2d(512, eps=1e-05, momentum=0.1, affine=True, track_running_stats=True)\n",
       "      )\n",
       "    )\n",
       "    (1): BasicBlock(\n",
       "      (conv1): Conv2d(512, 512, kernel_size=(3, 3), stride=(1, 1), padding=(1, 1), bias=False)\n",
       "      (bn1): BatchNorm2d(512, eps=1e-05, momentum=0.1, affine=True, track_running_stats=True)\n",
       "      (relu): ReLU(inplace=True)\n",
       "      (conv2): Conv2d(512, 512, kernel_size=(3, 3), stride=(1, 1), padding=(1, 1), bias=False)\n",
       "      (bn2): BatchNorm2d(512, eps=1e-05, momentum=0.1, affine=True, track_running_stats=True)\n",
       "    )\n",
       "  )\n",
       "  (avgpool): AdaptiveAvgPool2d(output_size=(1, 1))\n",
       "  (fc): Linear(in_features=512, out_features=1000, bias=True)\n",
       ")"
      ]
     },
     "execution_count": 3,
     "metadata": {},
     "output_type": "execute_result"
    }
   ],
   "source": [
    "#использую GPU, объявляю модель и замораживаю параметры\n",
    "use_cuda = torch.cuda.is_available()\n",
    "model = models.resnet18(pretrained = True)\n",
    "for param in model.parameters():\n",
    "    param.requires_grad = False\n",
    "model"
   ]
  },
  {
   "cell_type": "code",
   "execution_count": 4,
   "metadata": {},
   "outputs": [
    {
     "data": {
      "text/plain": [
       "ResNet(\n",
       "  (conv1): Conv2d(3, 64, kernel_size=(7, 7), stride=(2, 2), padding=(3, 3), bias=False)\n",
       "  (bn1): BatchNorm2d(64, eps=1e-05, momentum=0.1, affine=True, track_running_stats=True)\n",
       "  (relu): ReLU(inplace=True)\n",
       "  (maxpool): MaxPool2d(kernel_size=3, stride=2, padding=1, dilation=1, ceil_mode=False)\n",
       "  (layer1): Sequential(\n",
       "    (0): BasicBlock(\n",
       "      (conv1): Conv2d(64, 64, kernel_size=(3, 3), stride=(1, 1), padding=(1, 1), bias=False)\n",
       "      (bn1): BatchNorm2d(64, eps=1e-05, momentum=0.1, affine=True, track_running_stats=True)\n",
       "      (relu): ReLU(inplace=True)\n",
       "      (conv2): Conv2d(64, 64, kernel_size=(3, 3), stride=(1, 1), padding=(1, 1), bias=False)\n",
       "      (bn2): BatchNorm2d(64, eps=1e-05, momentum=0.1, affine=True, track_running_stats=True)\n",
       "    )\n",
       "    (1): BasicBlock(\n",
       "      (conv1): Conv2d(64, 64, kernel_size=(3, 3), stride=(1, 1), padding=(1, 1), bias=False)\n",
       "      (bn1): BatchNorm2d(64, eps=1e-05, momentum=0.1, affine=True, track_running_stats=True)\n",
       "      (relu): ReLU(inplace=True)\n",
       "      (conv2): Conv2d(64, 64, kernel_size=(3, 3), stride=(1, 1), padding=(1, 1), bias=False)\n",
       "      (bn2): BatchNorm2d(64, eps=1e-05, momentum=0.1, affine=True, track_running_stats=True)\n",
       "    )\n",
       "  )\n",
       "  (layer2): Sequential(\n",
       "    (0): BasicBlock(\n",
       "      (conv1): Conv2d(64, 128, kernel_size=(3, 3), stride=(2, 2), padding=(1, 1), bias=False)\n",
       "      (bn1): BatchNorm2d(128, eps=1e-05, momentum=0.1, affine=True, track_running_stats=True)\n",
       "      (relu): ReLU(inplace=True)\n",
       "      (conv2): Conv2d(128, 128, kernel_size=(3, 3), stride=(1, 1), padding=(1, 1), bias=False)\n",
       "      (bn2): BatchNorm2d(128, eps=1e-05, momentum=0.1, affine=True, track_running_stats=True)\n",
       "      (downsample): Sequential(\n",
       "        (0): Conv2d(64, 128, kernel_size=(1, 1), stride=(2, 2), bias=False)\n",
       "        (1): BatchNorm2d(128, eps=1e-05, momentum=0.1, affine=True, track_running_stats=True)\n",
       "      )\n",
       "    )\n",
       "    (1): BasicBlock(\n",
       "      (conv1): Conv2d(128, 128, kernel_size=(3, 3), stride=(1, 1), padding=(1, 1), bias=False)\n",
       "      (bn1): BatchNorm2d(128, eps=1e-05, momentum=0.1, affine=True, track_running_stats=True)\n",
       "      (relu): ReLU(inplace=True)\n",
       "      (conv2): Conv2d(128, 128, kernel_size=(3, 3), stride=(1, 1), padding=(1, 1), bias=False)\n",
       "      (bn2): BatchNorm2d(128, eps=1e-05, momentum=0.1, affine=True, track_running_stats=True)\n",
       "    )\n",
       "  )\n",
       "  (layer3): Sequential(\n",
       "    (0): BasicBlock(\n",
       "      (conv1): Conv2d(128, 256, kernel_size=(3, 3), stride=(2, 2), padding=(1, 1), bias=False)\n",
       "      (bn1): BatchNorm2d(256, eps=1e-05, momentum=0.1, affine=True, track_running_stats=True)\n",
       "      (relu): ReLU(inplace=True)\n",
       "      (conv2): Conv2d(256, 256, kernel_size=(3, 3), stride=(1, 1), padding=(1, 1), bias=False)\n",
       "      (bn2): BatchNorm2d(256, eps=1e-05, momentum=0.1, affine=True, track_running_stats=True)\n",
       "      (downsample): Sequential(\n",
       "        (0): Conv2d(128, 256, kernel_size=(1, 1), stride=(2, 2), bias=False)\n",
       "        (1): BatchNorm2d(256, eps=1e-05, momentum=0.1, affine=True, track_running_stats=True)\n",
       "      )\n",
       "    )\n",
       "    (1): BasicBlock(\n",
       "      (conv1): Conv2d(256, 256, kernel_size=(3, 3), stride=(1, 1), padding=(1, 1), bias=False)\n",
       "      (bn1): BatchNorm2d(256, eps=1e-05, momentum=0.1, affine=True, track_running_stats=True)\n",
       "      (relu): ReLU(inplace=True)\n",
       "      (conv2): Conv2d(256, 256, kernel_size=(3, 3), stride=(1, 1), padding=(1, 1), bias=False)\n",
       "      (bn2): BatchNorm2d(256, eps=1e-05, momentum=0.1, affine=True, track_running_stats=True)\n",
       "    )\n",
       "  )\n",
       "  (layer4): Sequential(\n",
       "    (0): BasicBlock(\n",
       "      (conv1): Conv2d(256, 512, kernel_size=(3, 3), stride=(2, 2), padding=(1, 1), bias=False)\n",
       "      (bn1): BatchNorm2d(512, eps=1e-05, momentum=0.1, affine=True, track_running_stats=True)\n",
       "      (relu): ReLU(inplace=True)\n",
       "      (conv2): Conv2d(512, 512, kernel_size=(3, 3), stride=(1, 1), padding=(1, 1), bias=False)\n",
       "      (bn2): BatchNorm2d(512, eps=1e-05, momentum=0.1, affine=True, track_running_stats=True)\n",
       "      (downsample): Sequential(\n",
       "        (0): Conv2d(256, 512, kernel_size=(1, 1), stride=(2, 2), bias=False)\n",
       "        (1): BatchNorm2d(512, eps=1e-05, momentum=0.1, affine=True, track_running_stats=True)\n",
       "      )\n",
       "    )\n",
       "    (1): BasicBlock(\n",
       "      (conv1): Conv2d(512, 512, kernel_size=(3, 3), stride=(1, 1), padding=(1, 1), bias=False)\n",
       "      (bn1): BatchNorm2d(512, eps=1e-05, momentum=0.1, affine=True, track_running_stats=True)\n",
       "      (relu): ReLU(inplace=True)\n",
       "      (conv2): Conv2d(512, 512, kernel_size=(3, 3), stride=(1, 1), padding=(1, 1), bias=False)\n",
       "      (bn2): BatchNorm2d(512, eps=1e-05, momentum=0.1, affine=True, track_running_stats=True)\n",
       "    )\n",
       "  )\n",
       "  (avgpool): AdaptiveAvgPool2d(output_size=(1, 1))\n",
       "  (fc): Linear(in_features=512, out_features=2, bias=True)\n",
       ")"
      ]
     },
     "execution_count": 4,
     "metadata": {},
     "output_type": "execute_result"
    }
   ],
   "source": [
    "#меняю выходной слой на подходящий для данной задачи\n",
    "hidden_dim = 512\n",
    "out = 2\n",
    "classifier = nn.Linear(hidden_dim, out)\n",
    "model.fc = classifier\n",
    "model"
   ]
  },
  {
   "cell_type": "code",
   "execution_count": 5,
   "metadata": {},
   "outputs": [
    {
     "name": "stdout",
     "output_type": "stream",
     "text": [
      "Cuda is available!\n",
      "Num batches in trainloader: 117\n",
      "Num of batches in validloader: 13\n"
     ]
    }
   ],
   "source": [
    "#объявляю метрику оченки и алгоритм оптимизации нейронной сети\n",
    "#поскольку данные несбалансированы, использую кросс-энтропию\n",
    "#для оптимизации использую стохастический градиентный спуск\n",
    "if use_cuda:\n",
    "    print('Cuda is available!')\n",
    "    model = model.cuda()\n",
    "        \n",
    "criterion = nn.CrossEntropyLoss()\n",
    "optimizer = optim.SGD(model.fc.parameters(), lr = 0.01, momentum = 0.9)\n",
    "\n",
    "print(f\"Num batches in trainloader: {len(loaders['train'])}\\nNum of batches in validloader: {len(loaders['valid'])}\")"
   ]
  },
  {
   "cell_type": "markdown",
   "metadata": {},
   "source": [
    "### Training the model"
   ]
  },
  {
   "cell_type": "code",
   "execution_count": 3,
   "metadata": {},
   "outputs": [],
   "source": [
    "#функция обучения\n",
    "def train(n_epochs, loaders, model, optimizer, criterion, use_cuda, save_path):\n",
    "    control_dict = {} #словарь контрольных значений ошибки для дальнейшей визуализации\n",
    "    valid_loss_min = np.Inf #стартовый порог ошибки валидации для дальнейшего сохранения модели\n",
    "    for epoch in range(1, n_epochs + 1):\n",
    "        train_loss = 0.0\n",
    "        valid_loss = 0.0\n",
    "        model.train()\n",
    "        for batch_idx, (data, target) in enumerate(loaders['train']):#тренировка\n",
    "            if use_cuda:\n",
    "                data, target = data.cuda(), target.cuda()\n",
    "            optimizer.zero_grad()\n",
    "            output = model(data)\n",
    "            loss = criterion(output, target)\n",
    "            loss.backward()\n",
    "            optimizer.step()\n",
    "            train_loss += loss.item() * data.size(0)\n",
    "        model.eval()\n",
    "        for batch_idx, (data, target) in enumerate(loaders['valid']):#валидация\n",
    "            if use_cuda:\n",
    "                data, target = data.cuda(), target.cuda()\n",
    "            output = model(data)\n",
    "            loss = criterion(output, target)\n",
    "            valid_loss += loss.item() * data.size(0)\n",
    "        train_loss = train_loss / len(loaders['train'])\n",
    "        valid_loss = valid_loss / len(loaders['valid'])\n",
    "        print(f'Epoch: {epoch}\\tTraining Loss: {train_loss}\\tValidation Loss: {valid_loss}')\n",
    "        #сохраняем модель если ошибка валидации уменьшилась\n",
    "        if valid_loss <= valid_loss_min:\n",
    "            print(f'Validation loss decreased ({valid_loss_min} --> {valid_loss})')\n",
    "            torch.save(model.state_dict(), save_path)\n",
    "            valid_loss_min = valid_loss\n",
    "        control_dict[epoch] = [train_loss, valid_loss]\n",
    "        #возвращаем обученную модель и словарь контрольных значений\n",
    "    return model, control_dict"
   ]
  },
  {
   "cell_type": "code",
   "execution_count": 34,
   "metadata": {},
   "outputs": [
    {
     "name": "stdout",
     "output_type": "stream",
     "text": [
      "Epoch: 1\tTraining Loss: 53.36154275273873\tValidation Loss: 30.92066474897521\n",
      "Validation loss decreased (inf --> 30.92066474897521)\n",
      "Epoch: 2\tTraining Loss: 33.04395294290478\tValidation Loss: 26.449957553829467\n",
      "Validation loss decreased (30.92066474897521 --> 26.449957553829467)\n",
      "Epoch: 3\tTraining Loss: 31.90664438827563\tValidation Loss: 31.491253459027835\n",
      "Epoch: 4\tTraining Loss: 30.573314750093523\tValidation Loss: 30.410379539643014\n",
      "Epoch: 5\tTraining Loss: 29.48289444183899\tValidation Loss: 29.416618402515137\n",
      "Epoch: 6\tTraining Loss: 31.07864999771118\tValidation Loss: 29.327967024807418\n",
      "Epoch: 7\tTraining Loss: 29.273173869161283\tValidation Loss: 27.346171587705612\n",
      "Epoch: 8\tTraining Loss: 29.63161342578419\tValidation Loss: 28.14865393936634\n",
      "Epoch: 9\tTraining Loss: 30.10217875949407\tValidation Loss: 26.821619876793452\n",
      "Epoch: 10\tTraining Loss: 30.125515673120145\tValidation Loss: 26.4187905980008\n",
      "Validation loss decreased (26.449957553829467 --> 26.4187905980008)\n",
      "Epoch: 11\tTraining Loss: 28.61984182010263\tValidation Loss: 26.26371974178723\n",
      "Validation loss decreased (26.4187905980008 --> 26.26371974178723)\n",
      "Epoch: 12\tTraining Loss: 29.04596739199202\tValidation Loss: 27.182922742196492\n",
      "Epoch: 13\tTraining Loss: 28.43497072892674\tValidation Loss: 27.456951107297623\n",
      "Epoch: 14\tTraining Loss: 28.662932748511686\tValidation Loss: 25.503624396664755\n",
      "Validation loss decreased (26.26371974178723 --> 25.503624396664755)\n",
      "Epoch: 15\tTraining Loss: 27.536654506194388\tValidation Loss: 27.842152676412038\n",
      "Epoch: 16\tTraining Loss: 28.402975648641586\tValidation Loss: 30.401641332677432\n",
      "Epoch: 17\tTraining Loss: 27.383908263707564\tValidation Loss: 25.515334423099244\n",
      "Epoch: 18\tTraining Loss: 29.162869870157564\tValidation Loss: 27.32333800835269\n",
      "Epoch: 19\tTraining Loss: 30.276360841120702\tValidation Loss: 26.41536456346512\n",
      "Epoch: 20\tTraining Loss: 31.468789794182374\tValidation Loss: 27.881356892841204\n",
      "Epoch: 21\tTraining Loss: 30.94124101481195\tValidation Loss: 25.582566687038966\n",
      "Epoch: 22\tTraining Loss: 27.351054465366623\tValidation Loss: 25.48074616278921\n",
      "Validation loss decreased (25.503624396664755 --> 25.48074616278921)\n",
      "Epoch: 23\tTraining Loss: 30.07326032448623\tValidation Loss: 32.83145278479372\n",
      "Epoch: 24\tTraining Loss: 27.591671114250765\tValidation Loss: 23.764479679720743\n",
      "Validation loss decreased (25.48074616278921 --> 23.764479679720743)\n",
      "Epoch: 25\tTraining Loss: 29.19511902332306\tValidation Loss: 29.449812078050204\n",
      "Epoch: 26\tTraining Loss: 29.000162113521057\tValidation Loss: 27.44547168271882\n",
      "Epoch: 27\tTraining Loss: 28.39186325618776\tValidation Loss: 33.7240490104471\n",
      "Epoch: 28\tTraining Loss: 29.78246047474065\tValidation Loss: 32.7142373749188\n",
      "Epoch: 29\tTraining Loss: 32.02917930357537\tValidation Loss: 27.12374640788351\n",
      "Epoch: 30\tTraining Loss: 27.66453343629837\tValidation Loss: 30.17071747141225\n",
      "Epoch: 31\tTraining Loss: 29.2068296216302\tValidation Loss: 26.414590001106262\n",
      "Epoch: 32\tTraining Loss: 28.45141748957715\tValidation Loss: 31.456547315631592\n",
      "Epoch: 33\tTraining Loss: 30.168059029821624\tValidation Loss: 22.495118326374463\n",
      "Validation loss decreased (23.764479679720743 --> 22.495118326374463)\n",
      "Epoch: 34\tTraining Loss: 28.381616797487613\tValidation Loss: 29.299896257264272\n",
      "Epoch: 35\tTraining Loss: 27.689392406051443\tValidation Loss: 27.446101603763445\n",
      "Epoch: 36\tTraining Loss: 27.367417950751417\tValidation Loss: 32.35886356660298\n",
      "Epoch: 37\tTraining Loss: 28.371909023341487\tValidation Loss: 28.830300835626467\n",
      "Epoch: 38\tTraining Loss: 26.43110772512727\tValidation Loss: 26.94756521497454\n",
      "Epoch: 39\tTraining Loss: 31.06941069081678\tValidation Loss: 31.12864215033395\n",
      "Epoch: 40\tTraining Loss: 27.86382886464313\tValidation Loss: 28.37491294528757\n",
      "Epoch: 41\tTraining Loss: 29.11923939797838\tValidation Loss: 36.397636058075086\n",
      "Epoch: 42\tTraining Loss: 30.363782534154794\tValidation Loss: 26.44741632470063\n",
      "Epoch: 43\tTraining Loss: 28.789613000922284\tValidation Loss: 31.207838386297226\n",
      "Epoch: 44\tTraining Loss: 27.969299710403053\tValidation Loss: 26.719836403216636\n",
      "Epoch: 45\tTraining Loss: 29.941481030593483\tValidation Loss: 25.470676545585906\n",
      "Epoch: 46\tTraining Loss: 27.596126601857655\tValidation Loss: 29.35360540662493\n",
      "Epoch: 47\tTraining Loss: 30.748112115819577\tValidation Loss: 33.25971055030823\n",
      "Epoch: 48\tTraining Loss: 31.269863053398616\tValidation Loss: 24.242333229099\n",
      "Epoch: 49\tTraining Loss: 26.43778118743735\tValidation Loss: 29.088513949087687\n",
      "Epoch: 50\tTraining Loss: 30.806812828880247\tValidation Loss: 41.6739867585046\n",
      "Epoch: 51\tTraining Loss: 33.2034035799867\tValidation Loss: 27.548829713038035\n",
      "Epoch: 52\tTraining Loss: 27.73040348644984\tValidation Loss: 31.172509150845663\n",
      "Epoch: 53\tTraining Loss: 31.2269409177667\tValidation Loss: 24.558515533804893\n",
      "Epoch: 54\tTraining Loss: 27.01368687516552\tValidation Loss: 28.00180301495961\n",
      "Epoch: 55\tTraining Loss: 29.9290250903469\tValidation Loss: 27.1289336170469\n",
      "Epoch: 56\tTraining Loss: 26.97815024650703\tValidation Loss: 24.94237614103726\n",
      "Epoch: 57\tTraining Loss: 27.918878960407387\tValidation Loss: 39.710083859307424\n",
      "Epoch: 58\tTraining Loss: 27.533243204577495\tValidation Loss: 28.48136827988284\n",
      "Epoch: 59\tTraining Loss: 27.658403622902046\tValidation Loss: 29.022326384271896\n",
      "Epoch: 60\tTraining Loss: 29.0386310351097\tValidation Loss: 32.166512817144394\n",
      "Epoch: 61\tTraining Loss: 28.68712127082429\tValidation Loss: 22.706589414605073\n",
      "Epoch: 62\tTraining Loss: 28.343342531535583\tValidation Loss: 30.436307270612037\n",
      "Epoch: 63\tTraining Loss: 29.48819523696172\tValidation Loss: 30.01206425683839\n",
      "Epoch: 64\tTraining Loss: 30.143013008570268\tValidation Loss: 29.631228678992816\n",
      "Epoch: 65\tTraining Loss: 28.961091228460862\tValidation Loss: 30.577869474887848\n",
      "Epoch: 66\tTraining Loss: 29.37956244965731\tValidation Loss: 26.07609058490821\n",
      "Epoch: 67\tTraining Loss: 29.91466153223636\tValidation Loss: 29.1147281229496\n",
      "Epoch: 68\tTraining Loss: 28.874716180360924\tValidation Loss: 26.28446931072644\n",
      "Epoch: 69\tTraining Loss: 26.84986721661131\tValidation Loss: 25.170696263866766\n",
      "Epoch: 70\tTraining Loss: 28.23292718297344\tValidation Loss: 27.336995916707174\n",
      "Epoch: 71\tTraining Loss: 29.308834006220607\tValidation Loss: 25.806763031652995\n",
      "Epoch: 72\tTraining Loss: 28.64415359800145\tValidation Loss: 27.056259736418724\n",
      "Epoch: 73\tTraining Loss: 29.6360461302733\tValidation Loss: 24.19409463448184\n",
      "Epoch: 74\tTraining Loss: 26.89069508950589\tValidation Loss: 23.511036923953466\n",
      "Epoch: 75\tTraining Loss: 33.28987280292026\tValidation Loss: 24.166452367390907\n",
      "Epoch: 76\tTraining Loss: 28.63967775086225\tValidation Loss: 25.638917787798814\n",
      "Epoch: 77\tTraining Loss: 28.747223564123704\tValidation Loss: 26.48804940070425\n",
      "Epoch: 78\tTraining Loss: 29.837489517058355\tValidation Loss: 28.336097172328405\n",
      "Epoch: 79\tTraining Loss: 29.728016120902563\tValidation Loss: 26.48342599613326\n",
      "Epoch: 80\tTraining Loss: 32.11500841985315\tValidation Loss: 23.995910623243876\n",
      "Epoch: 81\tTraining Loss: 27.218237215179506\tValidation Loss: 31.528001597949437\n",
      "Epoch: 82\tTraining Loss: 27.85990610062066\tValidation Loss: 27.11888529573168\n",
      "Epoch: 83\tTraining Loss: 26.970838310354846\tValidation Loss: 31.031749440090998\n",
      "Epoch: 84\tTraining Loss: 28.36998504602303\tValidation Loss: 26.716022793735778\n",
      "Epoch: 85\tTraining Loss: 30.198011661990215\tValidation Loss: 33.39047546046121\n",
      "Epoch: 86\tTraining Loss: 27.836804905685327\tValidation Loss: 28.272422938474588\n",
      "Epoch: 87\tTraining Loss: 33.6887740058414\tValidation Loss: 24.402591807501658\n",
      "Epoch: 88\tTraining Loss: 27.42122138102176\tValidation Loss: 25.180764719843864\n",
      "Epoch: 89\tTraining Loss: 28.873066794064087\tValidation Loss: 28.42323743019785\n",
      "Epoch: 90\tTraining Loss: 27.816656787516706\tValidation Loss: 29.36305578691619\n",
      "Epoch: 91\tTraining Loss: 27.39078849806624\tValidation Loss: 27.026430866547994\n",
      "Epoch: 92\tTraining Loss: 27.52312572199409\tValidation Loss: 33.144776542271885\n",
      "Epoch: 93\tTraining Loss: 27.881558997398717\tValidation Loss: 27.297728606632777\n",
      "Epoch: 94\tTraining Loss: 28.7393942434909\tValidation Loss: 28.35480281284877\n",
      "Epoch: 95\tTraining Loss: 27.66943142752526\tValidation Loss: 26.729268154927663\n",
      "Epoch: 96\tTraining Loss: 27.549493937169093\tValidation Loss: 25.114712412868226\n",
      "Epoch: 97\tTraining Loss: 29.513736572306033\tValidation Loss: 24.971367367676326\n",
      "Epoch: 98\tTraining Loss: 30.984522648787095\tValidation Loss: 23.30395582318306\n"
     ]
    },
    {
     "name": "stdout",
     "output_type": "stream",
     "text": [
      "Epoch: 99\tTraining Loss: 29.0019929196875\tValidation Loss: 45.2179020685809\n",
      "Epoch: 100\tTraining Loss: 29.894874497995538\tValidation Loss: 22.40082863186087\n",
      "Validation loss decreased (22.495118326374463 --> 22.40082863186087)\n"
     ]
    }
   ],
   "source": [
    "trained_model, visual_data = train(100, loaders, model, optimizer, criterion, use_cuda, 'resnet18_pre.pt')"
   ]
  },
  {
   "cell_type": "code",
   "execution_count": 38,
   "metadata": {},
   "outputs": [
    {
     "data": {
      "image/png": "[encoded data removed]",
      "text/plain": [
       "<Figure size 432x288 with 1 Axes>"
      ]
     },
     "metadata": {
      "needs_background": "light"
     },
     "output_type": "display_data"
    }
   ],
   "source": [
    "import matplotlib.pyplot as plt\n",
    "%matplotlib inline\n",
    "#функция для визуализации данных\n",
    "def visualize(data):\n",
    "    visual_data = np.array(list(data.values()))\n",
    "    ax = np.arange(len(data)) \n",
    "    y_train = visual_data[:, 0] \n",
    "    y_valid = visual_data[:, 1]\n",
    "    plt.plot(ax, y_train, label = 'train loss')\n",
    "    plt.plot(ax, y_valid, label = 'valid loss')\n",
    "    plt.title('Training and validation')\n",
    "    plt.legend()\n",
    "    plt.show()\n",
    "    \n",
    "visualize(visual_data)"
   ]
  },
  {
   "cell_type": "markdown",
   "metadata": {},
   "source": [
    "### Full retraining of pretrained network"
   ]
  },
  {
   "cell_type": "code",
   "execution_count": 4,
   "metadata": {},
   "outputs": [
    {
     "name": "stdout",
     "output_type": "stream",
     "text": [
      "Cuda is available!\n"
     ]
    }
   ],
   "source": [
    "#используем более умный подход\n",
    "use_cuda = torch.cuda.is_available()\n",
    "hidden_dim = 512\n",
    "out = 2\n",
    "classifier = nn.Linear(hidden_dim, out)\n",
    "model_1 = models.resnet18(pretrained = True)\n",
    "model_1.fc = classifier\n",
    "#т.к. данные сильно несбалансированные, штрафуем модель в большей степени за ошибки классификации в классе меньшинства\n",
    "#для этого объявляем тензор с соотношениями штрафов и добавляем его как аргумент в метрику оценки\n",
    "weights = torch.tensor([1101 / 7470, 6369 / 7470], dtype=torch.float, device='cuda:0')\n",
    "criterion_1 = nn.CrossEntropyLoss(weight = weights)\n",
    "optimizer_1 = optim.SGD(model_1.parameters(), lr = 0.001, momentum = 0.9)\n",
    "if use_cuda:\n",
    "    print('Cuda is available!')\n",
    "    model_1 = model_1.cuda()"
   ]
  },
  {
   "cell_type": "code",
   "execution_count": 5,
   "metadata": {},
   "outputs": [
    {
     "name": "stdout",
     "output_type": "stream",
     "text": [
      "Epoch: 1\tTraining Loss: 28.287601215859592\tValidation Loss: 15.779209473303386\n",
      "Validation loss decreased (inf --> 15.779209473303386)\n",
      "Epoch: 2\tTraining Loss: 15.152543220984734\tValidation Loss: 13.49432231166533\n",
      "Validation loss decreased (15.779209473303386 --> 13.49432231166533)\n",
      "Epoch: 3\tTraining Loss: 13.74818556238029\tValidation Loss: 12.379001486514296\n",
      "Validation loss decreased (13.49432231166533 --> 12.379001486514296)\n",
      "Epoch: 4\tTraining Loss: 12.684030973557698\tValidation Loss: 11.178703961627823\n",
      "Validation loss decreased (12.379001486514296 --> 11.178703961627823)\n",
      "Epoch: 5\tTraining Loss: 11.749736883125063\tValidation Loss: 10.560557522944041\n",
      "Validation loss decreased (11.178703961627823 --> 10.560557522944041)\n",
      "Epoch: 6\tTraining Loss: 10.749064665224592\tValidation Loss: 10.212305476622921\n",
      "Validation loss decreased (10.560557522944041 --> 10.212305476622921)\n",
      "Epoch: 7\tTraining Loss: 9.57147050686812\tValidation Loss: 8.868989136602197\n",
      "Validation loss decreased (10.212305476622921 --> 8.868989136602197)\n",
      "Epoch: 8\tTraining Loss: 8.902080751071543\tValidation Loss: 8.31680566817522\n",
      "Validation loss decreased (8.868989136602197 --> 8.31680566817522)\n",
      "Epoch: 9\tTraining Loss: 8.230765277298831\tValidation Loss: 7.551523283656154\n",
      "Validation loss decreased (8.31680566817522 --> 7.551523283656154)\n",
      "Epoch: 10\tTraining Loss: 7.408020893522238\tValidation Loss: 6.725193418562412\n",
      "Validation loss decreased (7.551523283656154 --> 6.725193418562412)\n",
      "Epoch: 11\tTraining Loss: 6.900613420342995\tValidation Loss: 6.770298446395567\n",
      "Epoch: 12\tTraining Loss: 6.182356114862329\tValidation Loss: 6.153548350823777\n",
      "Validation loss decreased (6.725193418562412 --> 6.153548350823777)\n",
      "Epoch: 13\tTraining Loss: 6.038107630559954\tValidation Loss: 6.533737479576042\n",
      "Epoch: 14\tTraining Loss: 5.600488034597898\tValidation Loss: 5.1647220722266605\n",
      "Validation loss decreased (6.153548350823777 --> 5.1647220722266605)\n",
      "Epoch: 15\tTraining Loss: 5.06989726512614\tValidation Loss: 4.439307442733219\n",
      "Validation loss decreased (5.1647220722266605 --> 4.439307442733219)\n",
      "Epoch: 16\tTraining Loss: 4.886111738065542\tValidation Loss: 5.575811705418995\n",
      "Epoch: 17\tTraining Loss: 4.5975877390700886\tValidation Loss: 5.553994820985411\n",
      "Epoch: 18\tTraining Loss: 4.642248554755065\tValidation Loss: 3.8417887235326424\n",
      "Validation loss decreased (4.439307442733219 --> 3.8417887235326424)\n",
      "Epoch: 19\tTraining Loss: 3.964902985399052\tValidation Loss: 4.1349625539566786\n",
      "Epoch: 20\tTraining Loss: 3.984718694777812\tValidation Loss: 3.7691358059112514\n",
      "Validation loss decreased (3.8417887235326424 --> 3.7691358059112514)\n",
      "Epoch: 21\tTraining Loss: 3.975570154265832\tValidation Loss: 4.0216358703161985\n",
      "Epoch: 22\tTraining Loss: 3.830702063895888\tValidation Loss: 3.3271769045719077\n",
      "Validation loss decreased (3.7691358059112514 --> 3.3271769045719077)\n",
      "Epoch: 23\tTraining Loss: 3.868019538852623\tValidation Loss: 4.296101811341941\n",
      "Epoch: 24\tTraining Loss: 3.1865213808871933\tValidation Loss: 2.6682827235864743\n",
      "Validation loss decreased (3.3271769045719077 --> 2.6682827235864743)\n",
      "Epoch: 25\tTraining Loss: 3.329327559414304\tValidation Loss: 3.4691823441535234\n",
      "Epoch: 26\tTraining Loss: 3.3592001863960492\tValidation Loss: 5.191165134842906\n",
      "Epoch: 27\tTraining Loss: 3.072306436376046\tValidation Loss: 2.6903617099326635\n",
      "Epoch: 28\tTraining Loss: 3.10514220620616\tValidation Loss: 3.0328804794698954\n",
      "Epoch: 29\tTraining Loss: 2.8349677978430763\tValidation Loss: 3.098418654607875\n",
      "Epoch: 30\tTraining Loss: 2.7498710370796213\tValidation Loss: 2.5617215556225608\n",
      "Validation loss decreased (2.6682827235864743 --> 2.5617215556225608)\n",
      "Epoch: 31\tTraining Loss: 2.7714456224466786\tValidation Loss: 2.2542821541428566\n",
      "Validation loss decreased (2.5617215556225608 --> 2.2542821541428566)\n",
      "Epoch: 32\tTraining Loss: 2.5308183790894887\tValidation Loss: 3.6973360601280416\n",
      "Epoch: 33\tTraining Loss: 2.5276926024738007\tValidation Loss: 2.8117195570043156\n",
      "Epoch: 34\tTraining Loss: 2.7096891678964434\tValidation Loss: 4.009868551311748\n",
      "Epoch: 35\tTraining Loss: 2.6127052932141064\tValidation Loss: 3.4362280296960046\n",
      "Epoch: 36\tTraining Loss: 2.334567979483281\tValidation Loss: 2.7724178843200207\n",
      "Epoch: 37\tTraining Loss: 2.4793688936506286\tValidation Loss: 2.0328315614855716\n",
      "Validation loss decreased (2.2542821541428566 --> 2.0328315614855716)\n",
      "Epoch: 38\tTraining Loss: 2.2120912473459367\tValidation Loss: 1.917374914245946\n",
      "Validation loss decreased (2.0328315614855716 --> 1.917374914245946)\n",
      "Epoch: 39\tTraining Loss: 1.9906391095748897\tValidation Loss: 2.1723975853196213\n",
      "Epoch: 40\tTraining Loss: 2.250502148990409\tValidation Loss: 2.1090694202908447\n",
      "Epoch: 41\tTraining Loss: 2.076798787352361\tValidation Loss: 2.50796518009156\n",
      "Epoch: 42\tTraining Loss: 1.9116879316457247\tValidation Loss: 2.273093336660947\n",
      "Epoch: 43\tTraining Loss: 1.7526014809954469\tValidation Loss: 3.1678778241787637\n",
      "Epoch: 44\tTraining Loss: 2.0650117454134813\tValidation Loss: 1.8424528435404812\n",
      "Validation loss decreased (1.917374914245946 --> 1.8424528435404812)\n",
      "Epoch: 45\tTraining Loss: 2.1018541339090313\tValidation Loss: 2.102976605030043\n",
      "Epoch: 46\tTraining Loss: 1.936710566976818\tValidation Loss: 1.941811970435083\n",
      "Epoch: 47\tTraining Loss: 2.1101372680800448\tValidation Loss: 2.795489128679037\n",
      "Epoch: 48\tTraining Loss: 1.9207115528031677\tValidation Loss: 2.679862927379353\n",
      "Epoch: 49\tTraining Loss: 1.6065108599614795\tValidation Loss: 1.9996976993445839\n",
      "Epoch: 50\tTraining Loss: 1.7101731712345856\tValidation Loss: 2.220921468422083\n",
      "Epoch: 51\tTraining Loss: 1.7228245345591489\tValidation Loss: 1.7024368989680494\n",
      "Validation loss decreased (1.8424528435404812 --> 1.7024368989680494)\n",
      "Epoch: 52\tTraining Loss: 1.7376391612687858\tValidation Loss: 1.6649711311661772\n",
      "Validation loss decreased (1.7024368989680494 --> 1.6649711311661772)\n",
      "Epoch: 53\tTraining Loss: 1.7106131616411573\tValidation Loss: 1.7618189531245403\n",
      "Epoch: 54\tTraining Loss: 1.978799457582882\tValidation Loss: 2.2465137525328567\n",
      "Epoch: 55\tTraining Loss: 1.5965001644819217\tValidation Loss: 1.4066916695696168\n",
      "Validation loss decreased (1.6649711311661772 --> 1.4066916695696168)\n",
      "Epoch: 56\tTraining Loss: 1.5565906451794052\tValidation Loss: 1.9058225301227398\n",
      "Epoch: 57\tTraining Loss: 1.6711873520733946\tValidation Loss: 2.0244096903396502\n",
      "Epoch: 58\tTraining Loss: 1.891952154210816\tValidation Loss: 1.8354965820908546\n",
      "Epoch: 59\tTraining Loss: 1.7992871053402422\tValidation Loss: 2.5057974473706315\n",
      "Epoch: 60\tTraining Loss: 1.410262795638735\tValidation Loss: 1.1772704630025796\n",
      "Validation loss decreased (1.4066916695696168 --> 1.1772704630025796)\n",
      "Epoch: 61\tTraining Loss: 1.4735430864048964\tValidation Loss: 2.1622439098677466\n",
      "Epoch: 62\tTraining Loss: 1.3915153613937545\tValidation Loss: 1.4577277985933637\n",
      "Epoch: 63\tTraining Loss: 1.5722624783293675\tValidation Loss: 1.205858290195465\n",
      "Epoch: 64\tTraining Loss: 1.5944767620382925\tValidation Loss: 1.6613082083474313\n",
      "Epoch: 65\tTraining Loss: 1.3950559618109364\tValidation Loss: 1.3696385486317533\n",
      "Epoch: 66\tTraining Loss: 1.2220300554092658\tValidation Loss: 1.5961229051463306\n",
      "Epoch: 67\tTraining Loss: 1.4275487619846807\tValidation Loss: 1.4950343126963292\n",
      "Epoch: 68\tTraining Loss: 1.272834943544309\tValidation Loss: 2.56775553936937\n",
      "Epoch: 69\tTraining Loss: 1.3665915909144333\tValidation Loss: 1.7286426893302373\n",
      "Epoch: 70\tTraining Loss: 1.2606466035911088\tValidation Loss: 1.7804871850780077\n",
      "Epoch: 71\tTraining Loss: 1.2906927840736837\tValidation Loss: 1.5490990246513061\n",
      "Epoch: 72\tTraining Loss: 1.190997821223622\tValidation Loss: 2.148904112832887\n",
      "Epoch: 73\tTraining Loss: 1.2118321972488726\tValidation Loss: 1.8699495414538043\n",
      "Epoch: 74\tTraining Loss: 1.4715483030856793\tValidation Loss: 1.2096941553588425\n",
      "Epoch: 75\tTraining Loss: 1.475533032363628\tValidation Loss: 4.2007252137575835\n",
      "Epoch: 76\tTraining Loss: 1.4727720771284805\tValidation Loss: 1.5118223199886935\n",
      "Epoch: 77\tTraining Loss: 1.2451885922385726\tValidation Loss: 1.8725811876689218\n",
      "Epoch: 78\tTraining Loss: 1.55788774952545\tValidation Loss: 1.5343238386724676\n",
      "Epoch: 79\tTraining Loss: 1.5891208779856056\tValidation Loss: 1.7128326876887254\n",
      "Epoch: 80\tTraining Loss: 1.2889429594753152\tValidation Loss: 1.6791932306119375\n",
      "Epoch: 81\tTraining Loss: 1.4144799225505884\tValidation Loss: 2.1186238997615874\n"
     ]
    },
    {
     "name": "stdout",
     "output_type": "stream",
     "text": [
      "Epoch: 82\tTraining Loss: 1.36972019155273\tValidation Loss: 1.184167890144246\n",
      "Epoch: 83\tTraining Loss: 1.2585748662635432\tValidation Loss: 1.591854662235294\n",
      "Epoch: 84\tTraining Loss: 1.1492332500105693\tValidation Loss: 1.095681733850922\n",
      "Validation loss decreased (1.1772704630025796 --> 1.095681733850922)\n",
      "Epoch: 85\tTraining Loss: 1.0689695740150194\tValidation Loss: 1.488914173894695\n",
      "Epoch: 86\tTraining Loss: 1.418469662825435\tValidation Loss: 1.2543967360231494\n",
      "Epoch: 87\tTraining Loss: 1.2509113467393158\tValidation Loss: 2.310763733328453\n",
      "Epoch: 88\tTraining Loss: 1.243436757411997\tValidation Loss: 1.214844441773104\n",
      "Epoch: 89\tTraining Loss: 1.3548800270941297\tValidation Loss: 0.7966697090970618\n",
      "Validation loss decreased (1.095681733850922 --> 0.7966697090970618)\n",
      "Epoch: 90\tTraining Loss: 0.9422101451190568\tValidation Loss: 0.9891682589160544\n",
      "Epoch: 91\tTraining Loss: 0.9850217746333929\tValidation Loss: 1.5075572920697076\n",
      "Epoch: 92\tTraining Loss: 1.1208405781032171\tValidation Loss: 1.3578980014260327\n",
      "Epoch: 93\tTraining Loss: 1.014003406768128\tValidation Loss: 1.2416997509343284\n",
      "Epoch: 94\tTraining Loss: 1.223694253633967\tValidation Loss: 0.8707237102623496\n",
      "Epoch: 95\tTraining Loss: 1.0313289318139018\tValidation Loss: 1.4089251817869288\n",
      "Epoch: 96\tTraining Loss: 0.989818444159829\tValidation Loss: 0.6770550599986953\n",
      "Validation loss decreased (0.7966697090970618 --> 0.6770550599986953)\n",
      "Epoch: 97\tTraining Loss: 1.1041984370341367\tValidation Loss: 1.5241579769977502\n",
      "Epoch: 98\tTraining Loss: 1.1490980788307674\tValidation Loss: 0.93798226823232\n",
      "Epoch: 99\tTraining Loss: 1.0478271499268268\tValidation Loss: 1.1513571577545787\n",
      "Epoch: 100\tTraining Loss: 0.9915393684848638\tValidation Loss: 3.444745215986456\n"
     ]
    }
   ],
   "source": [
    "trained_model_1, visual_data_1 = train(100, loaders, model_1, optimizer_1, criterion_1, use_cuda, 'resnet18_fullretr.pt')"
   ]
  },
  {
   "cell_type": "code",
   "execution_count": 6,
   "metadata": {},
   "outputs": [
    {
     "data": {
      "image/png": "[encoded data removed]",
      "text/plain": [
       "<Figure size 432x288 with 1 Axes>"
      ]
     },
     "metadata": {
      "needs_background": "light"
     },
     "output_type": "display_data"
    }
   ],
   "source": [
    "import matplotlib.pyplot as plt\n",
    "%matplotlib inline\n",
    "\n",
    "def visualize(data):\n",
    "    visual_data = np.array(list(data.values()))\n",
    "    ax = np.arange(len(data)) \n",
    "    y_train = visual_data[:, 0] \n",
    "    y_valid = visual_data[:, 1]\n",
    "    plt.plot(ax, y_train, label = 'train loss')\n",
    "    plt.plot(ax, y_valid, label = 'valid loss')\n",
    "    plt.title('Training and validation')\n",
    "    plt.legend()\n",
    "    plt.show()\n",
    "    \n",
    "visualize(visual_data_1)"
   ]
  },
  {
   "cell_type": "markdown",
   "metadata": {},
   "source": [
    "### Retraining with imbalanced weights"
   ]
  },
  {
   "cell_type": "code",
   "execution_count": 3,
   "metadata": {},
   "outputs": [
    {
     "name": "stdout",
     "output_type": "stream",
     "text": [
      "['real', 'spoof']\n"
     ]
    }
   ],
   "source": [
    "train_dataset = datasets.ImageFolder(train_dir, transform = train_transforms)\n",
    "print(train_dataset.classes)"
   ]
  },
  {
   "cell_type": "code",
   "execution_count": 4,
   "metadata": {},
   "outputs": [],
   "source": [
    "hidden_dim = 2048\n",
    "out = 2\n",
    "classifier = nn.Linear(hidden_dim, out)\n",
    "use_cuda = torch.cuda.is_available()"
   ]
  },
  {
   "cell_type": "code",
   "execution_count": 5,
   "metadata": {},
   "outputs": [
    {
     "name": "stdout",
     "output_type": "stream",
     "text": [
      "Cuda is available!\n"
     ]
    }
   ],
   "source": [
    "#испытываем более глубокую сеть, немного меняем гиперпараметры\n",
    "model_2 = models.resnet50(pretrained = True)\n",
    "model_2.fc = classifier\n",
    "weights = torch.tensor([1101 / 7470, 6369 / 7470], dtype=torch.float, device='cuda:0')\n",
    "criterion_2 = nn.CrossEntropyLoss(weight = weights)\n",
    "optimizer_2 = optim.SGD(model_2.parameters(), lr = 0.005, momentum = 0.85)\n",
    "if use_cuda:\n",
    "    print('Cuda is available!')\n",
    "    model_2 = model_2.cuda()"
   ]
  },
  {
   "cell_type": "code",
   "execution_count": 8,
   "metadata": {},
   "outputs": [
    {
     "name": "stdout",
     "output_type": "stream",
     "text": [
      "Epoch: 1\tTraining Loss: 3.119493985341655\tValidation Loss: 2.1565372160134406\n",
      "Validation loss decreased (inf --> 2.1565372160134406)\n",
      "Epoch: 2\tTraining Loss: 1.4333462505004344\tValidation Loss: 0.9463226368220953\n",
      "Validation loss decreased (2.1565372160134406 --> 0.9463226368220953)\n",
      "Epoch: 3\tTraining Loss: 1.1036953940096064\tValidation Loss: 1.0202928092330694\n",
      "Epoch: 4\tTraining Loss: 0.9176757484793854\tValidation Loss: 0.8146104342662371\n",
      "Validation loss decreased (0.9463226368220953 --> 0.8146104342662371)\n",
      "Epoch: 5\tTraining Loss: 0.8080139377783252\tValidation Loss: 0.713044434445552\n",
      "Validation loss decreased (0.8146104342662371 --> 0.713044434445552)\n",
      "Epoch: 6\tTraining Loss: 0.561203756984562\tValidation Loss: 0.487677765222123\n",
      "Validation loss decreased (0.713044434445552 --> 0.487677765222123)\n",
      "Epoch: 7\tTraining Loss: 0.6512862141084913\tValidation Loss: 0.370174420496019\n",
      "Validation loss decreased (0.487677765222123 --> 0.370174420496019)\n",
      "Epoch: 8\tTraining Loss: 0.5088192163687996\tValidation Loss: 0.5441092744586058\n",
      "Epoch: 9\tTraining Loss: 0.48621856156561494\tValidation Loss: 0.6943758734627269\n",
      "Epoch: 10\tTraining Loss: 0.5792299394324645\tValidation Loss: 0.3967315511164578\n",
      "Epoch: 11\tTraining Loss: 0.4833668003925401\tValidation Loss: 0.5059232954294063\n",
      "Epoch: 12\tTraining Loss: 0.4532085111380642\tValidation Loss: 0.26768976989058924\n",
      "Validation loss decreased (0.370174420496019 --> 0.26768976989058924)\n",
      "Epoch: 13\tTraining Loss: 0.49506625063960147\tValidation Loss: 0.2746405727767314\n",
      "Epoch: 14\tTraining Loss: 0.3916780886491044\tValidation Loss: 0.28390343240104043\n",
      "Epoch: 15\tTraining Loss: 0.2974168022111472\tValidation Loss: 0.15371947439584452\n",
      "Validation loss decreased (0.26768976989058924 --> 0.15371947439584452)\n",
      "Epoch: 16\tTraining Loss: 0.36695851542604846\tValidation Loss: 0.4112120929281585\n",
      "Epoch: 17\tTraining Loss: 0.4157539016057729\tValidation Loss: 0.471358819031873\n",
      "Epoch: 18\tTraining Loss: 0.3466404407304059\tValidation Loss: 0.19656091920422533\n",
      "Epoch: 19\tTraining Loss: 0.3628268039578365\tValidation Loss: 0.29652213541647565\n",
      "Epoch: 20\tTraining Loss: 0.3336732647034467\tValidation Loss: 0.20461032408862734\n",
      "Epoch: 21\tTraining Loss: 0.32273744570059526\tValidation Loss: 0.16112144201850662\n",
      "Epoch: 22\tTraining Loss: 0.27218237851980703\tValidation Loss: 0.3274975097380005\n",
      "Epoch: 23\tTraining Loss: 0.288553440281186\tValidation Loss: 0.22510275160087845\n",
      "Epoch: 24\tTraining Loss: 0.30254120096085696\tValidation Loss: 0.20416990285425876\n",
      "Epoch: 25\tTraining Loss: 0.2321802855327001\tValidation Loss: 0.23734815908112347\n",
      "Epoch: 26\tTraining Loss: 0.21693380320102423\tValidation Loss: 0.18380369268729388\n",
      "Epoch: 27\tTraining Loss: 0.22167045612865263\tValidation Loss: 0.16351987740647297\n",
      "Epoch: 28\tTraining Loss: 0.2666074044718387\tValidation Loss: 0.23523509563556916\n",
      "Epoch: 29\tTraining Loss: 0.23194326688515612\tValidation Loss: 0.22620570733068654\n",
      "Epoch: 30\tTraining Loss: 0.21334195606864226\tValidation Loss: 0.2524023872930019\n",
      "Epoch: 31\tTraining Loss: 0.3238335475106684\tValidation Loss: 0.219890119387016\n",
      "Epoch: 32\tTraining Loss: 0.24044302144833107\tValidation Loss: 0.20899650724962926\n",
      "Epoch: 33\tTraining Loss: 0.21250980779947515\tValidation Loss: 0.2696981913714598\n",
      "Epoch: 34\tTraining Loss: 0.24363593716954446\tValidation Loss: 0.7661456850787195\n",
      "Epoch: 35\tTraining Loss: 0.25613041587908253\tValidation Loss: 0.2653451405796939\n",
      "Epoch: 36\tTraining Loss: 0.20662177837227172\tValidation Loss: 0.11928504062458299\n",
      "Validation loss decreased (0.15371947439584452 --> 0.11928504062458299)\n",
      "Epoch: 37\tTraining Loss: 0.1484028017443145\tValidation Loss: 0.07499372870314311\n",
      "Validation loss decreased (0.11928504062458299 --> 0.07499372870314311)\n",
      "Epoch: 38\tTraining Loss: 0.17558113046766072\tValidation Loss: 0.23557642765249162\n",
      "Epoch: 39\tTraining Loss: 0.1927376440446376\tValidation Loss: 0.17283561478073423\n",
      "Epoch: 40\tTraining Loss: 0.18700006545103914\tValidation Loss: 0.12375591133604757\n",
      "Epoch: 41\tTraining Loss: 0.23042989746591824\tValidation Loss: 0.11420048790303274\n",
      "Epoch: 42\tTraining Loss: 0.15020022420923432\tValidation Loss: 0.31940576343689686\n",
      "Epoch: 43\tTraining Loss: 0.17540270805535002\tValidation Loss: 0.15165448482282676\n",
      "Epoch: 44\tTraining Loss: 0.14564226424094795\tValidation Loss: 0.12244219545302187\n",
      "Epoch: 45\tTraining Loss: 0.22617760987561317\tValidation Loss: 0.0701042351205475\n",
      "Validation loss decreased (0.07499372870314311 --> 0.0701042351205475)\n",
      "Epoch: 46\tTraining Loss: 0.15594379231657107\tValidation Loss: 0.14463233201436546\n",
      "Epoch: 47\tTraining Loss: 0.17742158861497007\tValidation Loss: 0.16970951741901585\n",
      "Epoch: 48\tTraining Loss: 0.15303020379590626\tValidation Loss: 0.10411855287384242\n",
      "Epoch: 49\tTraining Loss: 0.23487910982129329\tValidation Loss: 0.05937379874320378\n",
      "Validation loss decreased (0.0701042351205475 --> 0.05937379874320378)\n",
      "Epoch: 50\tTraining Loss: 0.21482420974420025\tValidation Loss: 0.059191279869992286\n",
      "Validation loss decreased (0.05937379874320378 --> 0.059191279869992286)\n"
     ]
    }
   ],
   "source": [
    "trained_model_2, visual_data_2 = train(50, loaders, model_2, optimizer_2, criterion_2, use_cuda, 'resnet50_imba.pt')"
   ]
  },
  {
   "cell_type": "code",
   "execution_count": 9,
   "metadata": {},
   "outputs": [],
   "source": [
    "import matplotlib.pyplot as plt\n",
    "%matplotlib inline\n",
    "\n",
    "def visualize(data):\n",
    "    visual_data = np.array(list(data.values()))\n",
    "    ax = np.arange(len(data)) \n",
    "    y_train = visual_data[:, 0] \n",
    "    y_valid = visual_data[:, 1]\n",
    "    plt.plot(ax, y_train, label = 'train loss')\n",
    "    plt.plot(ax, y_valid, label = 'valid loss')\n",
    "    plt.title('Training and validation')\n",
    "    plt.legend()\n",
    "    plt.show()"
   ]
  },
  {
   "cell_type": "code",
   "execution_count": 10,
   "metadata": {},
   "outputs": [
    {
     "data": {
      "image/png": "[encoded data removed]",
      "text/plain": [
       "<Figure size 432x288 with 1 Axes>"
      ]
     },
     "metadata": {
      "needs_background": "light"
     },
     "output_type": "display_data"
    }
   ],
   "source": [
    "visualize(visual_data_2)"
   ]
  },
  {
   "cell_type": "markdown",
   "metadata": {},
   "source": [
    "### Making predictions"
   ]
  },
  {
   "cell_type": "code",
   "execution_count": 8,
   "metadata": {},
   "outputs": [
    {
     "name": "stdout",
     "output_type": "stream",
     "text": [
      "['real', 'spoof']\n"
     ]
    }
   ],
   "source": [
    "from PIL import Image\n",
    "from PIL import ImageFile\n",
    "import pandas as pd\n",
    "\n",
    "train_dataset = datasets.ImageFolder(train_dir, transform = train_transforms)\n",
    "class_names = train_dataset.classes\n",
    "print(class_names)"
   ]
  },
  {
   "cell_type": "code",
   "execution_count": 11,
   "metadata": {},
   "outputs": [
    {
     "data": {
      "text/plain": [
       "<All keys matched successfully>"
      ]
     },
     "execution_count": 11,
     "metadata": {},
     "output_type": "execute_result"
    }
   ],
   "source": [
    "hidden_dim = 2048\n",
    "out = 2\n",
    "classifier = nn.Linear(hidden_dim, out)\n",
    "resnet50 = models.resnet50(pretrained = True)\n",
    "resnet50.fc = classifier\n",
    "resnet50.load_state_dict(torch.load('resnet50_imba.pt'))"
   ]
  },
  {
   "cell_type": "code",
   "execution_count": 13,
   "metadata": {},
   "outputs": [],
   "source": [
    "resnet50.class_to_idx = train_dataset.class_to_idx\n",
    "#используем модель для предсказания результатов\n",
    "def process_image(image):\n",
    "    #трансформитуем изображение для нейронной сети\n",
    "    resizing = transforms.Compose([transforms.Resize(255),\n",
    "                                   transforms.CenterCrop(224),\n",
    "                                   transforms.ToTensor(),\n",
    "                                   transforms.Normalize([0.485, 0.456, 0.406],\n",
    "                                                        [0.229, 0.224, 0.225])])\n",
    "    result = resizing(image)\n",
    "    return np.array(result)\n",
    "\n",
    "def predict(image_path, model, topk=2):\n",
    "    #функция для предсказания результатов\n",
    "    device = torch.device(\"cpu\")\n",
    "    model.to(device)\n",
    "    model.eval()\n",
    "    \n",
    "    img_open = Image.open(image_path) \n",
    "    img_processed = process_image(img_open)\n",
    "    img_torch = torch.from_numpy(img_processed)\n",
    "    \n",
    "    img_torch = img_torch.unsqueeze_(0)\n",
    "    img_torch = img_torch.float()\n",
    "    \n",
    "    with torch.no_grad():\n",
    "        output = model.forward(img_torch)\n",
    "        \n",
    "    probability = F.softmax(output.data,dim=1)\n",
    "    \n",
    "    probs = np.array(probability.topk(topk)[0][0])\n",
    "    \n",
    "    index_to_class = {val: key for key, val in model.class_to_idx.items()}\n",
    "    top_classes = [np.str(index_to_class[each]) for each in np.array(probability.topk(topk)[1][0])]\n",
    "    \n",
    "    return probs, top_classes"
   ]
  },
  {
   "cell_type": "code",
   "execution_count": 14,
   "metadata": {},
   "outputs": [
    {
     "name": "stdout",
     "output_type": "stream",
     "text": [
      "[9.9998951e-01 1.0532335e-05]\n",
      "['real', 'spoof']\n",
      "[0.968271   0.03172898]\n",
      "['real', 'spoof']\n",
      "[9.9978131e-01 2.1873912e-04]\n",
      "['real', 'spoof']\n",
      "[9.9999940e-01 5.3678997e-07]\n",
      "['spoof', 'real']\n",
      "[1.0000000e+00 2.1952514e-08]\n",
      "['spoof', 'real']\n",
      "[9.9999702e-01 2.9740324e-06]\n",
      "['spoof', 'real']\n"
     ]
    }
   ],
   "source": [
    "probs, classes = predict('valid/real/HTCD620_id117_s0_120.png', resnet50)\n",
    "print(probs)\n",
    "print(classes)\n",
    "probs, classes = predict('valid/real/YOUTUBE_id22_s0_38.png', resnet50)\n",
    "print(probs)\n",
    "print(classes)\n",
    "probs, classes = predict('valid/real/YOUTUBE_id68_s0_150.png', resnet50)\n",
    "print(probs)\n",
    "print(classes)\n",
    "probs, classes = predict('valid/spoof/FT720P_IIYAMAGB_IPHONE5SB_id1_s0_120.png', resnet50)\n",
    "print(probs)\n",
    "print(classes)\n",
    "probs, classes = predict('valid/spoof/FT720P_MBP1314_IPHONE7F_id3_s0_120.png', resnet50)\n",
    "print(probs)\n",
    "print(classes)\n",
    "probs, classes = predict('valid/spoof/YOUTUBE_ATMP253MG_XIAOMIMI6_id33_s0_113.png', resnet50)\n",
    "print(probs)\n",
    "print(classes)"
   ]
  },
  {
   "cell_type": "code",
   "execution_count": 15,
   "metadata": {},
   "outputs": [
    {
     "data": {
      "text/html": [
       "<div>\n",
       "<style scoped>\n",
       "    .dataframe tbody tr th:only-of-type {\n",
       "        vertical-align: middle;\n",
       "    }\n",
       "\n",
       "    .dataframe tbody tr th {\n",
       "        vertical-align: top;\n",
       "    }\n",
       "\n",
       "    .dataframe thead th {\n",
       "        text-align: right;\n",
       "    }\n",
       "</style>\n",
       "<table border=\"1\" class=\"dataframe\">\n",
       "  <thead>\n",
       "    <tr style=\"text-align: right;\">\n",
       "      <th></th>\n",
       "      <th>image_name</th>\n",
       "      <th>spoof</th>\n",
       "    </tr>\n",
       "  </thead>\n",
       "  <tbody>\n",
       "  </tbody>\n",
       "</table>\n",
       "</div>"
      ],
      "text/plain": [
       "Empty DataFrame\n",
       "Columns: [image_name, spoof]\n",
       "Index: []"
      ]
     },
     "execution_count": 15,
     "metadata": {},
     "output_type": "execute_result"
    }
   ],
   "source": [
    "columns = ['image_name', 'spoof_prob']\n",
    "test_csv = pd.DataFrame(columns = columns)\n",
    "test_csv"
   ]
  },
  {
   "cell_type": "code",
   "execution_count": 16,
   "metadata": {},
   "outputs": [],
   "source": [
    "from pathlib import Path\n",
    "for i, file in enumerate(Path('test').glob('*.png')):\n",
    "    probs, classes = predict('test/' + file.name, resnet50)\n",
    "    test_csv.loc[i] = [file.name] + [probs[classes.index('spoof')]]"
   ]
  },
  {
   "cell_type": "code",
   "execution_count": 17,
   "metadata": {},
   "outputs": [
    {
     "name": "stdout",
     "output_type": "stream",
     "text": [
      "     image_name     spoof\n",
      "0  0004TGCC.png  1.000000\n",
      "1  00BMIGHK.png  1.000000\n",
      "2  00DH97CQ.png  0.000263\n",
      "3  00GZOF2Z.png  0.001169\n",
      "4  00I3IO2B.png  1.000000\n"
     ]
    }
   ],
   "source": [
    "print(test_csv.head())\n",
    "test_csv.to_csv('test_csv.csv', index = False)"
   ]
  },
  {
   "cell_type": "code",
   "execution_count": null,
   "metadata": {},
   "outputs": [],
   "source": []
  }
 ],
 "metadata": {
  "kernelspec": {
   "display_name": "Python 3",
   "language": "python",
   "name": "python3"
  },
  "language_info": {
   "codemirror_mode": {
    "name": "ipython",
    "version": 3
   },
   "file_extension": ".py",
   "mimetype": "text/x-python",
   "name": "python",
   "nbconvert_exporter": "python",
   "pygments_lexer": "ipython3",
   "version": "3.7.6"
  }
 },
 "nbformat": 4,
 "nbformat_minor": 4
}
